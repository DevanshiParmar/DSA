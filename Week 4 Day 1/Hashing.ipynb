{
 "cells": [
  {
   "cell_type": "markdown",
   "metadata": {},
   "source": [
    "### Devanshi Parmar"
   ]
  },
  {
   "cell_type": "markdown",
   "metadata": {},
   "source": [
    "#### DSA Week 4 Day 1 Practice"
   ]
  },
  {
   "cell_type": "code",
   "execution_count": 3,
   "metadata": {},
   "outputs": [
    {
     "name": "stdout",
     "output_type": "stream",
     "text": [
      "0 --> Ahmedabad --> Ajmer \n",
      "1 \n",
      "2 \n",
      "3 \n",
      "4 \n",
      "5 --> Mumbai \n",
      "6 \n",
      "7 \n",
      "8 --> Surat --> Pune \n",
      "9 --> Delhi \n"
     ]
    }
   ],
   "source": [
    "def display_hash(hashTable):\n",
    "    for i in range(len(hashTable)):\n",
    "        print(i, end = \" \")\n",
    "          \n",
    "        for j in hashTable[i]:\n",
    "            print(\"-->\", end = \" \")\n",
    "            print(j, end = \" \")\n",
    "              \n",
    "        print()\n",
    "\n",
    "HashTable = [[] for _ in range(10)]\n",
    "  \n",
    "# Hashing Function to return key for every value.\n",
    "def Hashing(keyvalue):\n",
    "    return keyvalue % len(HashTable)\n",
    "  \n",
    "\n",
    "def insert(Hashtable, keyvalue, value):\n",
    "      \n",
    "    hash_key = Hashing(keyvalue)\n",
    "    Hashtable[hash_key].append(value)\n",
    "\n",
    "insert(HashTable, 10, 'Ahmedabad')\n",
    "insert(HashTable, 25, 'Mumbai')\n",
    "insert(HashTable, 20, 'Ajmer')\n",
    "insert(HashTable, 9, 'Delhi')\n",
    "insert(HashTable, 18, 'Surat')\n",
    "insert(HashTable, 18, 'Pune')\n",
    "  \n",
    "display_hash (HashTable)"
   ]
  }
 ],
 "metadata": {
  "kernelspec": {
   "display_name": "Python 3",
   "language": "python",
   "name": "python3"
  },
  "language_info": {
   "codemirror_mode": {
    "name": "ipython",
    "version": 3
   },
   "file_extension": ".py",
   "mimetype": "text/x-python",
   "name": "python",
   "nbconvert_exporter": "python",
   "pygments_lexer": "ipython3",
   "version": "3.8.5"
  }
 },
 "nbformat": 4,
 "nbformat_minor": 4
}
