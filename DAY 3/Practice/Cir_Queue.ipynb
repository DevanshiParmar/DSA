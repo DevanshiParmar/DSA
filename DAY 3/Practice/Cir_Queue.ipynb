{
 "cells": [
  {
   "cell_type": "markdown",
   "metadata": {},
   "source": [
    "### Devanshi Parmar"
   ]
  },
  {
   "cell_type": "markdown",
   "metadata": {},
   "source": [
    "#### DSA Day 3 Practice - Circular Queue"
   ]
  },
  {
   "cell_type": "code",
   "execution_count": 11,
   "metadata": {},
   "outputs": [
    {
     "name": "stdout",
     "output_type": "stream",
     "text": [
      "Circular queue: 1 20 2 \n",
      "Removed value :  1\n",
      "Circular queue: 20 2 \n",
      "Circular queue: 20 2 5 \n"
     ]
    }
   ],
   "source": [
    "class CircularQueue():\n",
    "    def __init__(self, size): \n",
    "        self.size = size\n",
    "        \n",
    "        self.queue = [None for i in range(size)] # None keyword is used to define a null variable\n",
    "        self.front = self.rear = -1\n",
    " \n",
    "    def enqueue(self, data):\n",
    "         \n",
    "        # queue is full\n",
    "        if ((self.rear + 1) % self.size == self.front):\n",
    "            print(\" Queue is Full\\n\")\n",
    "             \n",
    "        # for empty queue\n",
    "        elif (self.front == -1):\n",
    "            self.front = 0\n",
    "            self.rear = 0\n",
    "            self.queue[self.rear] = data\n",
    "        else:\n",
    "            # next position of rear\n",
    "            self.rear = (self.rear + 1) % self.size\n",
    "            self.queue[self.rear] = data\n",
    "             \n",
    "    def dequeue(self):\n",
    "        if (self.front == -1): # for empty queue\n",
    "            print (\"Queue is Empty\\n\")\n",
    "             \n",
    "        # for only one element\n",
    "        elif (self.front == self.rear):\n",
    "            temp=self.queue[self.front]\n",
    "            self.front = -1\n",
    "            self.rear = -1\n",
    "            return temp\n",
    "        else:\n",
    "            temp = self.queue[self.front]\n",
    "            self.front = (self.front + 1) % self.size\n",
    "            return temp\n",
    " \n",
    "    def display(self):\n",
    "     \n",
    "        # condition for empty queue\n",
    "        if(self.front == -1):\n",
    "            print (\"Queue is Empty\")\n",
    " \n",
    "        elif (self.rear >= self.front):\n",
    "            print(\"Circular queue:\",\n",
    "                                              end = \" \")\n",
    "            for i in range(self.front, self.rear + 1):\n",
    "                print(self.queue[i], end = \" \")\n",
    "            print ()\n",
    " \n",
    "        else:\n",
    "            print (\"Circular Queue:\",\n",
    "                                           end = \" \")\n",
    "            for i in range(self.front, self.size):\n",
    "                print(self.queue[i], end = \" \")\n",
    "            for i in range(0, self.rear + 1):\n",
    "                print(self.queue[i], end = \" \")\n",
    "            print ()\n",
    " \n",
    "        if ((self.rear + 1) % self.size == self.front):\n",
    "            print(\"Queue is Full\")\n",
    "\n",
    "ob = CircularQueue(5)\n",
    "ob.enqueue(1)\n",
    "ob.enqueue(20)\n",
    "ob.enqueue(2)\n",
    "ob.display()\n",
    "print (\"Removed value : \", ob.dequeue())\n",
    "ob.display()\n",
    "ob.enqueue(5)\n",
    "ob.display()"
   ]
  }
 ],
 "metadata": {
  "kernelspec": {
   "display_name": "Python 3",
   "language": "python",
   "name": "python3"
  },
  "language_info": {
   "codemirror_mode": {
    "name": "ipython",
    "version": 3
   },
   "file_extension": ".py",
   "mimetype": "text/x-python",
   "name": "python",
   "nbconvert_exporter": "python",
   "pygments_lexer": "ipython3",
   "version": "3.8.5"
  }
 },
 "nbformat": 4,
 "nbformat_minor": 4
}
