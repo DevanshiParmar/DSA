{
 "cells": [
  {
   "cell_type": "markdown",
   "metadata": {},
   "source": [
    "### Devanshi Parmar"
   ]
  },
  {
   "cell_type": "markdown",
   "metadata": {},
   "source": [
    "#### DSA Day 3 Practice - Reverse a queue"
   ]
  },
  {
   "cell_type": "code",
   "execution_count": 2,
   "metadata": {},
   "outputs": [
    {
     "name": "stdout",
     "output_type": "stream",
     "text": [
      "20, 15, 10, 5, 0, "
     ]
    }
   ],
   "source": [
    "from queue import Queue\n",
    "    \n",
    "def reversequeue(queue):\n",
    "    Stack = []\n",
    "    while (not queue.empty()):\n",
    "        Stack.append(queue.queue[0])\n",
    "        queue.get() # Remove and return an item from the queue\n",
    "    while (len(Stack) != 0):\n",
    "        queue.put(Stack[-1]) # Put an item into the queue\n",
    "        Stack.pop()\n",
    "        \n",
    "queue = Queue()\n",
    "queue.put(0)\n",
    "queue.put(5)\n",
    "queue.put(10)\n",
    "queue.put(15)\n",
    "queue.put(20)\n",
    "\n",
    "\n",
    "reversequeue(queue)\n",
    "\n",
    "while (not queue.empty()):\n",
    "    print(queue.queue[0], end = \", \")\n",
    "    queue.get() \n"
   ]
  }
 ],
 "metadata": {
  "kernelspec": {
   "display_name": "Python 3",
   "language": "python",
   "name": "python3"
  },
  "language_info": {
   "codemirror_mode": {
    "name": "ipython",
    "version": 3
   },
   "file_extension": ".py",
   "mimetype": "text/x-python",
   "name": "python",
   "nbconvert_exporter": "python",
   "pygments_lexer": "ipython3",
   "version": "3.8.5"
  }
 },
 "nbformat": 4,
 "nbformat_minor": 4
}
