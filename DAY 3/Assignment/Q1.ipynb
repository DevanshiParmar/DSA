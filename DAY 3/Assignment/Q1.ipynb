{
 "cells": [
  {
   "cell_type": "markdown",
   "metadata": {},
   "source": [
    "### Devanshi Parmar"
   ]
  },
  {
   "cell_type": "markdown",
   "metadata": {},
   "source": [
    "#### DSA Day 3 - Minimum average waiting time problem using min heap"
   ]
  },
  {
   "cell_type": "code",
   "execution_count": 9,
   "metadata": {},
   "outputs": [
    {
     "name": "stdout",
     "output_type": "stream",
     "text": [
      "3\n",
      "0 3\n",
      "1 9\n",
      "2 5\n",
      "8\n"
     ]
    }
   ],
   "source": [
    "#priority queue implementation\n",
    "\n",
    "import heapq\n",
    "\n",
    "n = int(input().strip())\n",
    "cust = []\n",
    "for i in range(n):\n",
    "    cust.append([int(x) for x in input().split()])\n",
    "    \n",
    "heap = []\n",
    "curTime = 0\n",
    "waitTime = 0\n",
    "cust.sort()\n",
    "i = 0\n",
    "\n",
    "while i < n:\n",
    "    if curTime < cust[i][0]:\n",
    "        curTime = cust[i][0]\n",
    "    while i < n and (curTime >= cust[i][0]):\n",
    "        heapq.heappush(heap, (cust[i][1], cust[i][0]))\n",
    "        i += 1\n",
    "\n",
    "    while (i < n) and curTime < cust[i][0] and len(heap) > 0:\n",
    "        wait = 0\n",
    "        cur = heapq.heappop(heap)\n",
    "        wait = curTime - cur[1] + cur[0] \n",
    "        time = cur[0]\n",
    "        curTime += time\n",
    "        waitTime += wait\n",
    "\n",
    "while len(heap) > 0:\n",
    "    time, wait = calculateWaiting(heap, curTime)\n",
    "    curTime += time\n",
    "    waitTime += wait\n",
    "\n",
    "result = (waitTime // n)\n",
    "print(result)"
   ]
  }
 ],
 "metadata": {
  "kernelspec": {
   "display_name": "Python 3",
   "language": "python",
   "name": "python3"
  },
  "language_info": {
   "codemirror_mode": {
    "name": "ipython",
    "version": 3
   },
   "file_extension": ".py",
   "mimetype": "text/x-python",
   "name": "python",
   "nbconvert_exporter": "python",
   "pygments_lexer": "ipython3",
   "version": "3.8.5"
  }
 },
 "nbformat": 4,
 "nbformat_minor": 4
}
