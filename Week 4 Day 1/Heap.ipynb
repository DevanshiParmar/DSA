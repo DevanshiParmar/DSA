{
 "cells": [
  {
   "cell_type": "markdown",
   "metadata": {},
   "source": [
    "### Devanshi Parmar"
   ]
  },
  {
   "cell_type": "markdown",
   "metadata": {},
   "source": [
    "#### DSA Week 4 Day 1 Practice - find k numbers with most occurrences in the given array"
   ]
  },
  {
   "cell_type": "code",
   "execution_count": 8,
   "metadata": {},
   "outputs": [
    {
     "name": "stdout",
     "output_type": "stream",
     "text": [
      "3 numbers with most occurrences are:\n",
      "4\n",
      "6\n",
      "2\n"
     ]
    }
   ],
   "source": [
    "import heapq\n",
    "  \n",
    "def printfreq(arr, n, k):\n",
    "      \n",
    "    mp = dict()\n",
    "      \n",
    "    # count of all the distinct elements in dictionary with element as the key & count as the value.\n",
    "    for i in range(0, n):\n",
    "        if arr[i] not in mp:\n",
    "            mp[arr[i]] = 0\n",
    "        else:\n",
    "            mp[arr[i]] += 1\n",
    "              \n",
    "    heap = [(value, key) for key, \n",
    "             value in mp.items()]\n",
    "               \n",
    "    largest = heapq.nlargest(k, heap)\n",
    "  \n",
    "    # Insert the data from the map to the priority queue\n",
    "    print(k, \" numbers with most occurrences are:\", sep = \"\")\n",
    "               \n",
    "    # Print the top k elements\n",
    "    for i in range(k):\n",
    "        print(largest[i][1], end =\"\\n\")\n",
    "\n",
    "arr = [3,1,4,4,5,2,6,1,6,4,2 ]\n",
    "n = len(arr)\n",
    "k = 3\n",
    "\n",
    "printfreq(arr, n, k)"
   ]
  }
 ],
 "metadata": {
  "kernelspec": {
   "display_name": "Python 3",
   "language": "python",
   "name": "python3"
  },
  "language_info": {
   "codemirror_mode": {
    "name": "ipython",
    "version": 3
   },
   "file_extension": ".py",
   "mimetype": "text/x-python",
   "name": "python",
   "nbconvert_exporter": "python",
   "pygments_lexer": "ipython3",
   "version": "3.8.5"
  }
 },
 "nbformat": 4,
 "nbformat_minor": 4
}
