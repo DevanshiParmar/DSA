{
 "cells": [
  {
   "cell_type": "markdown",
   "metadata": {},
   "source": [
    "### Devanshi Parmar"
   ]
  },
  {
   "cell_type": "markdown",
   "metadata": {},
   "source": [
    "#### DSA Day 2 Practice- Implementing a stack using Linked List"
   ]
  },
  {
   "cell_type": "code",
   "execution_count": 30,
   "metadata": {},
   "outputs": [],
   "source": [
    "class Node:\n",
    "    def __init__(self, value):\n",
    "        self.value = value\n",
    "        self.next = None"
   ]
  },
  {
   "cell_type": "code",
   "execution_count": 31,
   "metadata": {},
   "outputs": [],
   "source": [
    "class Stack:\n",
    "    def __init__(self):\n",
    "        self.head = Node(\"head\")\n",
    "        self.size = 0\n",
    " \n",
    "    # String representation of the stack\n",
    "    def __str__(self):\n",
    "        cur = self.head.next\n",
    "        out = \" \"\n",
    "        while cur:\n",
    "            out += str(cur.value) + \" \"\n",
    "            cur = cur.next\n",
    "        return out[:-3]\n",
    "  \n",
    "    # Check if the stack is empty\n",
    "    def isEmpty(self):\n",
    "        return self.size == 0\n",
    " \n",
    "    # Get the top item of the stack\n",
    "    def peek(self):\n",
    "        if self.isEmpty():\n",
    "            raise Exception(\"Peeking from an empty stack\")\n",
    "        return self.head.next.value\n",
    " \n",
    "    # Push a value\n",
    "    def push(self, value):\n",
    "        node = Node(value)\n",
    "        node.next = self.head.next\n",
    "        self.head.next = node\n",
    "        self.size += 1\n",
    " \n",
    "    # Remove a value\n",
    "    def pop(self):\n",
    "        if self.isEmpty():\n",
    "            raise Exception(\"Popping from an empty stack\")\n",
    "        remove = self.head.next\n",
    "        self.head.next = self.head.next.next\n",
    "        self.size -= 1\n",
    "        return remove.value"
   ]
  },
  {
   "cell_type": "code",
   "execution_count": 32,
   "metadata": {},
   "outputs": [
    {
     "name": "stdout",
     "output_type": "stream",
     "text": [
      "Stack:  4 3 2 1\n",
      "Pop: 4\n",
      "Stack:  3 2 1\n",
      "Pop: 3\n",
      "Stack:  2 1\n"
     ]
    }
   ],
   "source": [
    "stk = Stack()\n",
    "for i in range(0, 5):\n",
    "    stk.push(i)\n",
    "print(f\"Stack: {stk}\")\n",
    "\n",
    "for _ in range(1, 3):\n",
    "    remove = stk.pop()\n",
    "    print(f\"Pop: {remove}\")\n",
    "    print(f\"Stack: {stk}\")"
   ]
  }
 ],
 "metadata": {
  "kernelspec": {
   "display_name": "Python 3",
   "language": "python",
   "name": "python3"
  },
  "language_info": {
   "codemirror_mode": {
    "name": "ipython",
    "version": 3
   },
   "file_extension": ".py",
   "mimetype": "text/x-python",
   "name": "python",
   "nbconvert_exporter": "python",
   "pygments_lexer": "ipython3",
   "version": "3.8.5"
  }
 },
 "nbformat": 4,
 "nbformat_minor": 4
}
