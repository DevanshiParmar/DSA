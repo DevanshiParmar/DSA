{
 "cells": [
  {
   "cell_type": "markdown",
   "metadata": {},
   "source": [
    "### Devanshi Parmar"
   ]
  },
  {
   "cell_type": "markdown",
   "metadata": {},
   "source": [
    "#### Day 2 Question- Print max element of the stack"
   ]
  },
  {
   "cell_type": "code",
   "execution_count": 5,
   "metadata": {},
   "outputs": [
    {
     "name": "stdout",
     "output_type": "stream",
     "text": [
      "7\n",
      "1 10\n",
      "1 20\n",
      "3\n",
      "--------\n",
      "20\n",
      "--------\n",
      "1 50\n",
      "3\n",
      "--------\n",
      "50\n",
      "--------\n",
      "2\n",
      "3\n",
      "--------\n",
      "20\n",
      "--------\n"
     ]
    }
   ],
   "source": [
    "N = int(input())\n",
    "stack = []\n",
    "for i in range(N):\n",
    "    line = input()\n",
    "    query = line[0]\n",
    "    if query == '1':\n",
    "        val = int(line[2:])\n",
    "        if len(stack) == 0:\n",
    "            stack.append(val)\n",
    "        else:\n",
    "            currMax = stack[-1]\n",
    "            stack.append(val if val > currMax else currMax)\n",
    "    elif query == '2':\n",
    "        stack.pop()\n",
    "    else:\n",
    "        print('--------')\n",
    "        print(stack[-1])\n",
    "        print('--------')"
   ]
  }
 ],
 "metadata": {
  "kernelspec": {
   "display_name": "Python 3",
   "language": "python",
   "name": "python3"
  },
  "language_info": {
   "codemirror_mode": {
    "name": "ipython",
    "version": 3
   },
   "file_extension": ".py",
   "mimetype": "text/x-python",
   "name": "python",
   "nbconvert_exporter": "python",
   "pygments_lexer": "ipython3",
   "version": "3.8.5"
  }
 },
 "nbformat": 4,
 "nbformat_minor": 4
}
