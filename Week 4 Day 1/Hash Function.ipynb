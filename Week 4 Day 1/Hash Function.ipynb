{
 "cells": [
  {
   "cell_type": "markdown",
   "metadata": {},
   "source": [
    "### Devanshi Parmar"
   ]
  },
  {
   "cell_type": "markdown",
   "metadata": {},
   "source": [
    "#### DSA Week 4 Day 1 Practice - Hash function in python"
   ]
  },
  {
   "cell_type": "code",
   "execution_count": 5,
   "metadata": {},
   "outputs": [
    {
     "name": "stdout",
     "output_type": "stream",
     "text": [
      "The integer hash value is : 55\n",
      "The string hash value is : -1152275106873208721\n",
      "The float hash value is : 78398662313267210\n"
     ]
    }
   ],
   "source": [
    "#hash()\n",
    " \n",
    "int_val = 55 \n",
    "str_val = 'Devanshi'\n",
    "flt_val = 10.034\n",
    " \n",
    "print(\"The integer hash value is : \" + str(hash(int_val))) #hash value for integer will be same\n",
    "print(\"The string hash value is : \" + str(hash(str_val)))\n",
    "print(\"The float hash value is : \" + str(hash(flt_val)))"
   ]
  }
 ],
 "metadata": {
  "kernelspec": {
   "display_name": "Python 3",
   "language": "python",
   "name": "python3"
  },
  "language_info": {
   "codemirror_mode": {
    "name": "ipython",
    "version": 3
   },
   "file_extension": ".py",
   "mimetype": "text/x-python",
   "name": "python",
   "nbconvert_exporter": "python",
   "pygments_lexer": "ipython3",
   "version": "3.8.5"
  }
 },
 "nbformat": 4,
 "nbformat_minor": 4
}
