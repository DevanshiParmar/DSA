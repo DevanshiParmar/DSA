{
 "cells": [
  {
   "cell_type": "markdown",
   "metadata": {},
   "source": [
    "### Devanshi Parmar"
   ]
  },
  {
   "cell_type": "markdown",
   "metadata": {},
   "source": [
    "#### DSA Day 2 Practice- Implementing a queue using Linked List"
   ]
  },
  {
   "cell_type": "code",
   "execution_count": 41,
   "metadata": {},
   "outputs": [],
   "source": [
    "class Node:   \n",
    "    def __init__(self, data):\n",
    "        self.data = data\n",
    "        self.next = None"
   ]
  },
  {
   "cell_type": "code",
   "execution_count": 42,
   "metadata": {},
   "outputs": [],
   "source": [
    "class Queue:  \n",
    "    def __init__(self):\n",
    "        self.front = self.rear = None\n",
    " \n",
    "    def isEmpty(self):\n",
    "        return self.front == None\n",
    "     \n",
    "    def EnQueue(self, item):\n",
    "        temp = Node(item)\n",
    "         \n",
    "        if self.rear == None:\n",
    "            self.front = self.rear = temp\n",
    "            return\n",
    "        self.rear.next = temp\n",
    "        self.rear = temp\n",
    " \n",
    "    def DeQueue(self):\n",
    "         \n",
    "        if self.isEmpty():\n",
    "            return\n",
    "        temp = self.front\n",
    "        self.front = temp.next\n",
    " \n",
    "        if(self.front == None):\n",
    "            self.rear = None"
   ]
  },
  {
   "cell_type": "code",
   "execution_count": 43,
   "metadata": {},
   "outputs": [
    {
     "name": "stdout",
     "output_type": "stream",
     "text": [
      "Front: 30\n",
      "Rear: 50\n"
     ]
    }
   ],
   "source": [
    "q = Queue()\n",
    "q.EnQueue(10)\n",
    "q.EnQueue(20)\n",
    "q.DeQueue()\n",
    "q.EnQueue(30)\n",
    "q.EnQueue(40)\n",
    "q.DeQueue()\n",
    "q.EnQueue(50)\n",
    "print(\"Front: \" + str(q.front.data))\n",
    "print(\"Rear: \" + str(q.rear.data))"
   ]
  }
 ],
 "metadata": {
  "kernelspec": {
   "display_name": "Python 3",
   "language": "python",
   "name": "python3"
  },
  "language_info": {
   "codemirror_mode": {
    "name": "ipython",
    "version": 3
   },
   "file_extension": ".py",
   "mimetype": "text/x-python",
   "name": "python",
   "nbconvert_exporter": "python",
   "pygments_lexer": "ipython3",
   "version": "3.8.5"
  }
 },
 "nbformat": 4,
 "nbformat_minor": 4
}
